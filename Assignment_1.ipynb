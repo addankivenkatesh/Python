{
 "cells": [
  {
   "cell_type": "markdown",
   "metadata": {},
   "source": [
    "## 1. What are the differences between operators and values in the following?\n",
    "*\n",
    "\n",
    "'hello'\n",
    "\n",
    "-87.8\n",
    "\n",
    " -\n",
    "\n",
    "/\n",
    "\n",
    "+\n",
    "\n",
    "6"
   ]
  },
  {
   "cell_type": "markdown",
   "metadata": {},
   "source": [
    "### Answers\n",
    "\n",
    "\"hello\"..... It is a string. we can create them simply by enclosing characters in quotes\n",
    "\n",
    "-87.8........It is a floating point.\n",
    "\n",
    "\"-\"  ....... It is a - sign used for subtraction\n",
    "\n",
    "\"/\" ........ It is a division operater. used for division operations\n",
    "\n",
    "\"+\"......... It is a addition operater. used for addition operations\n",
    "\n",
    "\"6\" ........ It is an int. usevally int is used for stroe the integers values"
   ]
  },
  {
   "cell_type": "markdown",
   "metadata": {},
   "source": [
    "## 2. what is the differance between string and variable\n",
    "\n",
    "### Answer\n",
    "\n",
    "\"String\" ...... string is a value, that represent value\n",
    "\n",
    "variable ...... variable is a name that can refers to any value.     "
   ]
  },
  {
   "cell_type": "markdown",
   "metadata": {},
   "source": [
    "## 3. Describe three different data forms."
   ]
  },
  {
   "cell_type": "markdown",
   "metadata": {},
   "source": [
    "Mainly data is divided into two types \n",
    "                1. Quantitative data\n",
    "                2. Qualitative data/categorical data\n",
    "                \n",
    "  1. Quantitative data:-\n",
    "              It is measured numerically with measurements of quantitative variables. we can do things like add, subtract,                   multiply and divide\n",
    "              Ex\"- Age\n",
    "              \n",
    "   2. Qualitative data:- \n",
    "              It allows based on some characteistics with the measurements of qualitative or categorical variable\n",
    "   \n",
    "   3. Discreate variable:-\n",
    "             It is a quantitative variable with a finate no of values\n",
    "             Ex:- Die\n",
    "   4. Continuous variable:- \n",
    "             It is a quantitative variable with a infinate no of values\n",
    "             Ex:- Temperature"
   ]
  },
  {
   "cell_type": "markdown",
   "metadata": {},
   "source": [
    "## 4. What makes up an expression? What are the functions of all expressions?"
   ]
  },
  {
   "cell_type": "markdown",
   "metadata": {},
   "source": [
    "Expression:\n",
    "            An expression is a combination of operators, constants and variables. An expression may consist of one or more                 operands, and zero or more operators to produce a value.\n",
    "            \n",
    " Constant expressions: \n",
    "            Constant Expressions consists of only constant values. A constant value is one that doesn’t change.\n",
    "\n",
    "Integral expressions: \n",
    "             Integral Expressions are those which produce integer results after implementing all the automatic and explicit \n",
    "             \n",
    "Floating expressions: \n",
    "               Float Expressions are which produce floating point results after implementing all the automatic and explicit type conversions.\n",
    "\n",
    "Bitwise expressions: \n",
    "            Bitwise Expressions are used to manipulate data at bit level. They are basically used for testing or shifting bits."
   ]
  },
  {
   "cell_type": "markdown",
   "metadata": {},
   "source": [
    "5. In this chapter, assignment statements such as spam = 10 were added. What&#39;s the difference between a declaration and an expression?"
   ]
  },
  {
   "cell_type": "markdown",
   "metadata": {},
   "source": [
    "A Function Declaration:- \n",
    "    It defines a function with the specified parameters without requiring a variable assignment. \n",
    "A Function Expression:-\n",
    "     It works just like a function declaration or a function statement, the only difference is that a function name is not          started in a function expression "
   ]
  },
  {
   "cell_type": "markdown",
   "metadata": {},
   "source": [
    "6. After running the following code, what does the variable bacon contain?"
   ]
  },
  {
   "cell_type": "code",
   "execution_count": 1,
   "metadata": {},
   "outputs": [
    {
     "data": {
      "text/plain": [
       "23"
      ]
     },
     "execution_count": 1,
     "metadata": {},
     "output_type": "execute_result"
    }
   ],
   "source": [
    "bacon = 22\n",
    "bacon + 1"
   ]
  },
  {
   "cell_type": "markdown",
   "metadata": {},
   "source": [
    " 7. What should the values of the following two terms be?\n",
    "\n"
   ]
  },
  {
   "cell_type": "code",
   "execution_count": 2,
   "metadata": {},
   "outputs": [
    {
     "data": {
      "text/plain": [
       "'spamspamspam'"
      ]
     },
     "execution_count": 2,
     "metadata": {},
     "output_type": "execute_result"
    }
   ],
   "source": [
    "'spam' + 'spamspam'\n",
    "'spam' * 3"
   ]
  },
  {
   "cell_type": "markdown",
   "metadata": {},
   "source": [
    " 8. Why is it that eggs is a true variable name but 100 is not?\n",
    "\n",
    "Because of string"
   ]
  },
  {
   "cell_type": "markdown",
   "metadata": {},
   "source": [
    " 9. Which of the following three functions may be used to convert a value to an integer, a floating-point number, or a  string"
   ]
  },
  {
   "cell_type": "code",
   "execution_count": 3,
   "metadata": {},
   "outputs": [
    {
     "name": "stdout",
     "output_type": "stream",
     "text": [
      "x is of type: <class 'int'>\n",
      "y is of type: <class 'float'>\n",
      "10\n",
      "z is of type: <class 'str'>\n"
     ]
    }
   ],
   "source": [
    "x = 10\n",
    "\n",
    "print(\"x is of type:\",type(x))\n",
    "\n",
    "y = 10.6\n",
    "print(\"y is of type:\",type(y))\n",
    "\n",
    "z = \"iNeuron\"\n",
    "\n",
    "print(x)\n",
    "print(\"z is of type:\",type(z))\n"
   ]
  },
  {
   "cell_type": "markdown",
   "metadata": {},
   "source": [
    "10. What is the error caused by this expression? What would you do about it?"
   ]
  },
  {
   "cell_type": "markdown",
   "metadata": {},
   "source": [
    "In the bellow we can concatenate only strings but not int"
   ]
  },
  {
   "cell_type": "code",
   "execution_count": 4,
   "metadata": {},
   "outputs": [
    {
     "ename": "TypeError",
     "evalue": "can only concatenate str (not \"int\") to str",
     "output_type": "error",
     "traceback": [
      "\u001b[1;31m---------------------------------------------------------------------------\u001b[0m",
      "\u001b[1;31mTypeError\u001b[0m                                 Traceback (most recent call last)",
      "\u001b[1;32m<ipython-input-4-76fe251eb016>\u001b[0m in \u001b[0;36m<module>\u001b[1;34m\u001b[0m\n\u001b[1;32m----> 1\u001b[1;33m \u001b[1;34m'I have eatten'\u001b[0m \u001b[1;33m+\u001b[0m\u001b[1;36m99\u001b[0m\u001b[1;33m+\u001b[0m  \u001b[1;34m'burritos'\u001b[0m\u001b[1;33m\u001b[0m\u001b[1;33m\u001b[0m\u001b[0m\n\u001b[0m",
      "\u001b[1;31mTypeError\u001b[0m: can only concatenate str (not \"int\") to str"
     ]
    }
   ],
   "source": [
    "'I have eatten' +99+  'burritos'"
   ]
  },
  {
   "cell_type": "code",
   "execution_count": null,
   "metadata": {},
   "outputs": [],
   "source": []
  }
 ],
 "metadata": {
  "kernelspec": {
   "display_name": "Python 3",
   "language": "python",
   "name": "python3"
  },
  "language_info": {
   "codemirror_mode": {
    "name": "ipython",
    "version": 3
   },
   "file_extension": ".py",
   "mimetype": "text/x-python",
   "name": "python",
   "nbconvert_exporter": "python",
   "pygments_lexer": "ipython3",
   "version": "3.7.6"
  }
 },
 "nbformat": 4,
 "nbformat_minor": 4
}
